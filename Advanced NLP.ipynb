{
 "cells": [
  {
   "cell_type": "code",
   "execution_count": 2,
   "id": "65f25ca4-2975-4b42-acd3-f8470ba70813",
   "metadata": {},
   "outputs": [
    {
     "name": "stderr",
     "output_type": "stream",
     "text": [
      "[nltk_data] Downloading package punkt to\n",
      "[nltk_data]     C:\\Users\\user\\AppData\\Roaming\\nltk_data...\n",
      "[nltk_data]   Package punkt is already up-to-date!\n"
     ]
    },
    {
     "data": {
      "text/plain": [
       "True"
      ]
     },
     "execution_count": 2,
     "metadata": {},
     "output_type": "execute_result"
    }
   ],
   "source": [
    "# import necessary libraries\n",
    "from gensim.models import Word2Vec\n",
    "from nltk.tokenize import word_tokenize\n",
    "import nltk\n",
    "nltk.download('punkt')"
   ]
  },
  {
   "cell_type": "code",
   "execution_count": 3,
   "id": "dfdd0ce6-86cb-4996-bb55-bdcb9ccb6f98",
   "metadata": {},
   "outputs": [],
   "source": [
    "# sample text data\n",
    "corpus =[\n",
    "    'word embeddings are essential for natural language processing tasks.',\n",
    "    'They capture semantic relationship between words',\n",
    "    'Word2Vec is a popular algorithm for learning word embeddings'\n",
    "]"
   ]
  },
  {
   "cell_type": "code",
   "execution_count": 4,
   "id": "905ee250-b881-477c-9d11-149027f1fd52",
   "metadata": {},
   "outputs": [
    {
     "name": "stdout",
     "output_type": "stream",
     "text": [
      "[['word', 'embeddings', 'are', 'essential', 'for', 'natural', 'language', 'processing', 'tasks', '.'], ['they', 'capture', 'semantic', 'relationship', 'between', 'words'], ['word2vec', 'is', 'a', 'popular', 'algorithm', 'for', 'learning', 'word', 'embeddings']]\n"
     ]
    }
   ],
   "source": [
    "# Tokenize the text data\n",
    "tokenized_corpus = [word_tokenize(sentence.lower()) for sentence in corpus]\n",
    "print(tokenized_corpus)"
   ]
  },
  {
   "cell_type": "code",
   "execution_count": 5,
   "id": "687499c8-d879-45e8-a11b-62fc281ec8ef",
   "metadata": {},
   "outputs": [],
   "source": [
    "# word2vec model training (using skip-gram as an example)\n",
    "model = Word2Vec(sentences = tokenized_corpus,\n",
    "                vector_size = 100, window = 5, sg = 1, min_count = 1)\n",
    "\n",
    "# save the trained model\n",
    "model.save(\"Word2Vecmodel.model\")"
   ]
  },
  {
   "cell_type": "code",
   "execution_count": 6,
   "id": "24580b08-08db-4ec7-940f-66337aa085ba",
   "metadata": {},
   "outputs": [
    {
     "name": "stdout",
     "output_type": "stream",
     "text": [
      "words similar to 'word': [('words', 0.21889080107212067), ('tasks', 0.21592096984386444), ('capture', 0.0934029147028923)]\n"
     ]
    }
   ],
   "source": [
    "\n",
    "\n",
    "# get the learned word embeddings\n",
    "word_embeddings = model.wv\n",
    "\n",
    "# use the learned word embeddings\n",
    "similar_words = word_embeddings.most_similar(\"word\", topn =  3)\n",
    "\n",
    "print(\"words similar to 'word':\", similar_words)"
   ]
  },
  {
   "cell_type": "code",
   "execution_count": 7,
   "id": "44f9aedf-16d4-44ef-b2be-4d6a09b3adb8",
   "metadata": {},
   "outputs": [],
   "source": [
    "# NLTK library \"reuters\" dataset\n",
    "from nltk.corpus import reuters\n"
   ]
  },
  {
   "cell_type": "code",
   "execution_count": 8,
   "id": "535d5f7e-bd4c-485b-baef-2e73351f1597",
   "metadata": {},
   "outputs": [
    {
     "name": "stdout",
     "output_type": "stream",
     "text": [
      "True\n"
     ]
    },
    {
     "name": "stderr",
     "output_type": "stream",
     "text": [
      "[nltk_data] Downloading package reuters to\n",
      "[nltk_data]     C:\\Users\\user\\AppData\\Roaming\\nltk_data...\n",
      "[nltk_data]   Package reuters is already up-to-date!\n"
     ]
    }
   ],
   "source": [
    "# Download the reuters dataset if not available\n",
    "data = nltk.download(\"reuters\")\n",
    "print(data)"
   ]
  },
  {
   "cell_type": "code",
   "execution_count": 9,
   "id": "b077fd11-2296-415b-9168-7efdc0106ea3",
   "metadata": {},
   "outputs": [],
   "source": [
    "# Load and tokenize the reuters dataset\n",
    "tokenized_sentences = reuters.sents()\n",
    "\n",
    "# word2vec model training (using skip-gram)\n",
    "model = Word2Vec(sentences=tokenized_sentences,\n",
    "                  vector_size=100,  # Corrected from 'windows' to 'window'\n",
    "                  window=5,\n",
    "                  sg=1,\n",
    "                  min_count=1)\n",
    "# Save the trained model\n",
    "model.save(\"Word2Vec_reuters_model.model\")"
   ]
  },
  {
   "cell_type": "code",
   "execution_count": 10,
   "id": "946bac63-7de4-454f-b35e-a3121e2ab3e0",
   "metadata": {},
   "outputs": [
    {
     "name": "stdout",
     "output_type": "stream",
     "text": [
      "words similar to 'market': [('markets', 0.7742810845375061), ('buying', 0.6610605716705322), ('exchanges', 0.6609679460525513)]\n"
     ]
    }
   ],
   "source": [
    "# Get the learned word embeddings\n",
    "word_embeddings = model.wv\n",
    "\n",
    "# Using the learned word embeddings\n",
    "similar_words = word_embeddings.most_similar('market', topn =3)\n",
    "\n",
    "print(\"words similar to 'market':\", similar_words)"
   ]
  },
  {
   "cell_type": "markdown",
   "id": "009155cd-eb07-49a7-85c1-f72a1c49fa38",
   "metadata": {},
   "source": [
    "#### Ruth.O.Ajagunna"
   ]
  },
  {
   "cell_type": "code",
   "execution_count": null,
   "id": "342fcbd2-88d9-4639-9f16-42f7f5dfd3bc",
   "metadata": {},
   "outputs": [],
   "source": []
  }
 ],
 "metadata": {
  "kernelspec": {
   "display_name": "Python 3 (ipykernel)",
   "language": "python",
   "name": "python3"
  },
  "language_info": {
   "codemirror_mode": {
    "name": "ipython",
    "version": 3
   },
   "file_extension": ".py",
   "mimetype": "text/x-python",
   "name": "python",
   "nbconvert_exporter": "python",
   "pygments_lexer": "ipython3",
   "version": "3.12.4"
  }
 },
 "nbformat": 4,
 "nbformat_minor": 5
}
