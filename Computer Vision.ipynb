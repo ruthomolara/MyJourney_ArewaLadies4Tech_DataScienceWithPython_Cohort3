{
 "cells": [
  {
   "cell_type": "code",
   "execution_count": 2,
   "id": "3d521ec8-4c4c-423f-8d2a-080e15520015",
   "metadata": {},
   "outputs": [],
   "source": [
    "from IPython.display import Image"
   ]
  },
  {
   "cell_type": "code",
   "execution_count": 3,
   "id": "49514d36-da26-415d-a091-36e05e050776",
   "metadata": {},
   "outputs": [
    {
     "data": {
      "image/jpeg": "[encoded data removed]",
      "text/plain": [
       "<IPython.core.display.Image object>"
      ]
     },
     "execution_count": 3,
     "metadata": {},
     "output_type": "execute_result"
    }
   ],
   "source": [
    "Image(filename = 'example.jpeg')"
   ]
  },
  {
   "cell_type": "code",
   "execution_count": 4,
   "id": "ca49f95b-ee10-40d1-9527-65a6eeaeb99b",
   "metadata": {},
   "outputs": [
    {
     "name": "stdout",
     "output_type": "stream",
     "text": [
      "True\n"
     ]
    }
   ],
   "source": [
    "import os\n",
    "print(os.path.isfile('example.jpeg'))\n"
   ]
  },
  {
   "cell_type": "code",
   "execution_count": 5,
   "id": "9523e5c5-35b8-4b37-9ade-2581281d22bc",
   "metadata": {},
   "outputs": [
    {
     "name": "stdout",
     "output_type": "stream",
     "text": [
      "Collecting opencv-python\n",
      "  Using cached opencv_python-4.10.0.84-cp37-abi3-win_amd64.whl.metadata (20 kB)\n",
      "Requirement already satisfied: numpy>=1.21.2 in c:\\users\\user\\anaconda3\\lib\\site-packages (from opencv-python) (1.26.4)\n",
      "Using cached opencv_python-4.10.0.84-cp37-abi3-win_amd64.whl (38.8 MB)\n",
      "Installing collected packages: opencv-python\n",
      "Successfully installed opencv-python-4.10.0.84\n"
     ]
    }
   ],
   "source": [
    "!pip install opencv-python"
   ]
  },
  {
   "cell_type": "code",
   "execution_count": 11,
   "id": "79788b10-2cff-4160-9bbe-b058b3db71ce",
   "metadata": {},
   "outputs": [
    {
     "name": "stdout",
     "output_type": "stream",
     "text": [
      "[[[  0  19  15]\n",
      "  [  0  17  16]\n",
      "  [ 10  13  21]\n",
      "  ...\n",
      "  [  0  98  28]\n",
      "  [  0  98  23]\n",
      "  [  0  94  17]]\n",
      "\n",
      " [[  0  20  14]\n",
      "  [  0  18  15]\n",
      "  [ 10  14  19]\n",
      "  ...\n",
      "  [  0  90  24]\n",
      "  [  1  97  27]\n",
      "  [  0  96  22]]\n",
      "\n",
      " [[  0  21  12]\n",
      "  [  0  19  14]\n",
      "  [  8  15  18]\n",
      "  ...\n",
      "  [  0  82  24]\n",
      "  [  1  86  24]\n",
      "  [  0  84  18]]\n",
      "\n",
      " ...\n",
      "\n",
      " [[ 40  55  11]\n",
      "  [101 103  43]\n",
      "  [211 187  97]\n",
      "  ...\n",
      "  [ 73 185 197]\n",
      "  [ 78 190 202]\n",
      "  [ 81 193 205]]\n",
      "\n",
      " [[ 42  57  13]\n",
      "  [ 99 101  41]\n",
      "  [213 189  99]\n",
      "  ...\n",
      "  [ 77 192 203]\n",
      "  [ 80 195 206]\n",
      "  [ 83 195 207]]\n",
      "\n",
      " [[ 42  57  13]\n",
      "  [ 99 101  41]\n",
      "  [213 189  99]\n",
      "  ...\n",
      "  [ 77 192 203]\n",
      "  [ 80 195 206]\n",
      "  [ 83 195 207]]]\n"
     ]
    }
   ],
   "source": [
    "import cv2\n",
    "image = cv2.imread('example.jpeg')\n",
    "print(image)"
   ]
  },
  {
   "cell_type": "code",
   "execution_count": 13,
   "id": "3cb6efed-3a82-4426-bd62-76d52536ef71",
   "metadata": {},
   "outputs": [
    {
     "name": "stdout",
     "output_type": "stream",
     "text": [
      "154\n",
      "367\n"
     ]
    }
   ],
   "source": [
    "height, width = image.shape [:2]\n",
    "print(height)\n",
    "print(width)"
   ]
  },
  {
   "cell_type": "markdown",
   "id": "43c1dcd1-7a9c-4772-9892-db9d080160dc",
   "metadata": {},
   "source": [
    "### Resizing"
   ]
  },
  {
   "cell_type": "code",
   "execution_count": 15,
   "id": "b814b40a-d0fd-49db-8f3f-c5e42958d10e",
   "metadata": {},
   "outputs": [
    {
     "name": "stdout",
     "output_type": "stream",
     "text": [
      "[[[  3  16  18]\n",
      "  [  4  12  25]\n",
      "  [  0  18  16]\n",
      "  ...\n",
      "  [ 49 151 126]\n",
      "  [  0  92  42]\n",
      "  [  0  98  25]]\n",
      "\n",
      " [[  3  16  17]\n",
      "  [  4  12  25]\n",
      "  [  1  18  16]\n",
      "  ...\n",
      "  [ 50 152 128]\n",
      "  [  0  92  43]\n",
      "  [  0  97  25]]\n",
      "\n",
      " [[  3  16  16]\n",
      "  [  4  12  25]\n",
      "  [  2  19  17]\n",
      "  ...\n",
      "  [ 53 156 133]\n",
      "  [  0  93  45]\n",
      "  [  0  96  26]]\n",
      "\n",
      " ...\n",
      "\n",
      " [[137 130  60]\n",
      "  [209 171  63]\n",
      "  [196 163  64]\n",
      "  ...\n",
      "  [ 67 172 196]\n",
      "  [ 69 184 197]\n",
      "  [ 79 194 205]]\n",
      "\n",
      " [[137 130  60]\n",
      "  [209 171  63]\n",
      "  [196 163  64]\n",
      "  ...\n",
      "  [ 67 173 196]\n",
      "  [ 69 184 197]\n",
      "  [ 79 194 205]]\n",
      "\n",
      " [[137 130  60]\n",
      "  [209 171  63]\n",
      "  [196 163  64]\n",
      "  ...\n",
      "  [ 67 173 196]\n",
      "  [ 69 184 197]\n",
      "  [ 79 194 205]]]\n"
     ]
    }
   ],
   "source": [
    "new_width = 100\n",
    "new_height = 320\n",
    "resized_image = cv2.resize(image, (new_width, new_height))\n",
    "print(resized_image)"
   ]
  },
  {
   "cell_type": "code",
   "execution_count": 17,
   "id": "ed8b8786-b798-4872-995a-a3eddbc31225",
   "metadata": {},
   "outputs": [
    {
     "name": "stdout",
     "output_type": "stream",
     "text": [
      "320\n",
      "100\n"
     ]
    }
   ],
   "source": [
    "height, width = resized_image.shape[:2]\n",
    "print(height)\n",
    "print(width)"
   ]
  },
  {
   "cell_type": "markdown",
   "id": "da2b20ed-0993-4290-b8b8-cdc27c534ec1",
   "metadata": {},
   "source": [
    "### Cropping"
   ]
  },
  {
   "cell_type": "code",
   "execution_count": 23,
   "id": "661ff4b5-20f8-4f50-9e0b-deed6692902f",
   "metadata": {},
   "outputs": [
    {
     "name": "stdout",
     "output_type": "stream",
     "text": [
      "[[[  0  19  15]\n",
      "  [  0  17  16]\n",
      "  [ 10  13  21]\n",
      "  ...\n",
      "  [212  85 146]\n",
      "  [208  81 142]\n",
      "  [206  80 139]]\n",
      "\n",
      " [[  0  20  14]\n",
      "  [  0  18  15]\n",
      "  [ 10  14  19]\n",
      "  ...\n",
      "  [210  83 144]\n",
      "  [211  85 144]\n",
      "  [207  81 140]]\n",
      "\n",
      " [[  0  21  12]\n",
      "  [  0  19  14]\n",
      "  [  8  15  18]\n",
      "  ...\n",
      "  [198  71 132]\n",
      "  [213  87 146]\n",
      "  [209  84 140]]\n",
      "\n",
      " ...\n",
      "\n",
      " [[  0  38   2]\n",
      "  [  0  23   0]\n",
      "  [ 22  34  16]\n",
      "  ...\n",
      "  [204  73 110]\n",
      "  [212  82 117]\n",
      "  [210  79 112]]\n",
      "\n",
      " [[  0  32   0]\n",
      "  [  3  32   6]\n",
      "  [ 19  23  11]\n",
      "  ...\n",
      "  [205  75 110]\n",
      "  [202  71 104]\n",
      "  [198  68  99]]\n",
      "\n",
      " [[  0  26   0]\n",
      "  [ 13  35  11]\n",
      "  [  9   3   0]\n",
      "  ...\n",
      "  [210  78 114]\n",
      "  [205  72 105]\n",
      "  [199  66  98]]]\n"
     ]
    }
   ],
   "source": [
    "y = 0\n",
    "x = 0\n",
    "h = 50\n",
    "w = 27\n",
    "crop_image = image[x:w, y:h]\n",
    "print(crop_image)"
   ]
  },
  {
   "cell_type": "code",
   "execution_count": 25,
   "id": "ef97cce8-5df7-4062-b080-393d01f15ac1",
   "metadata": {},
   "outputs": [
    {
     "name": "stdout",
     "output_type": "stream",
     "text": [
      "27\n",
      "50\n"
     ]
    }
   ],
   "source": [
    "height, width = crop_image.shape[0:2]\n",
    "print(height)\n",
    "print(width)"
   ]
  },
  {
   "cell_type": "code",
   "execution_count": 27,
   "id": "8811441e-718d-481c-b1df-59097a366f86",
   "metadata": {},
   "outputs": [
    {
     "data": {
      "text/plain": [
       "True"
      ]
     },
     "execution_count": 27,
     "metadata": {},
     "output_type": "execute_result"
    }
   ],
   "source": [
    "cv2.imwrite('new example image.jpeg', crop_image)"
   ]
  },
  {
   "cell_type": "markdown",
   "id": "39c9d418-899b-4c14-89a8-ca8a2a8c252c",
   "metadata": {},
   "source": [
    "\n",
    "\n",
    "### Normalization and Standardization"
   ]
  },
  {
   "cell_type": "markdown",
   "id": "06d10bbc-36a8-42d4-9fbd-a9fe76aed0c0",
   "metadata": {},
   "source": [
    "#### Normalization\n",
    "\n"
   ]
  },
  {
   "cell_type": "code",
   "execution_count": 31,
   "id": "669b9f4f-765c-4365-a65b-011954a80753",
   "metadata": {},
   "outputs": [],
   "source": [
    "import numpy as np"
   ]
  },
  {
   "cell_type": "code",
   "execution_count": 33,
   "id": "93b735a0-6750-41e4-9e5e-f22a6823a6b3",
   "metadata": {},
   "outputs": [
    {
     "name": "stdout",
     "output_type": "stream",
     "text": [
      "[[[  0.  19.  15.]\n",
      "  [  0.  17.  16.]\n",
      "  [ 10.  13.  21.]\n",
      "  ...\n",
      "  [  0.  98.  28.]\n",
      "  [  0.  98.  23.]\n",
      "  [  0.  94.  17.]]\n",
      "\n",
      " [[  0.  20.  14.]\n",
      "  [  0.  18.  15.]\n",
      "  [ 10.  14.  19.]\n",
      "  ...\n",
      "  [  0.  90.  24.]\n",
      "  [  1.  97.  27.]\n",
      "  [  0.  96.  22.]]\n",
      "\n",
      " [[  0.  21.  12.]\n",
      "  [  0.  19.  14.]\n",
      "  [  8.  15.  18.]\n",
      "  ...\n",
      "  [  0.  82.  24.]\n",
      "  [  1.  86.  24.]\n",
      "  [  0.  84.  18.]]\n",
      "\n",
      " ...\n",
      "\n",
      " [[ 40.  55.  11.]\n",
      "  [101. 103.  43.]\n",
      "  [211. 187.  97.]\n",
      "  ...\n",
      "  [ 73. 185. 197.]\n",
      "  [ 78. 190. 202.]\n",
      "  [ 81. 193. 205.]]\n",
      "\n",
      " [[ 42.  57.  13.]\n",
      "  [ 99. 101.  41.]\n",
      "  [213. 189.  99.]\n",
      "  ...\n",
      "  [ 77. 192. 203.]\n",
      "  [ 80. 195. 206.]\n",
      "  [ 83. 195. 207.]]\n",
      "\n",
      " [[ 42.  57.  13.]\n",
      "  [ 99. 101.  41.]\n",
      "  [213. 189.  99.]\n",
      "  ...\n",
      "  [ 77. 192. 203.]\n",
      "  [ 80. 195. 206.]\n",
      "  [ 83. 195. 207.]]]\n"
     ]
    }
   ],
   "source": [
    "image = cv2.imread('example.jpeg').astype(np.float32)\n",
    "print(image)"
   ]
  },
  {
   "cell_type": "code",
   "execution_count": 53,
   "id": "7cc23360-2ea8-4cf3-a0ac-3b9eb788ca0b",
   "metadata": {},
   "outputs": [
    {
     "name": "stdout",
     "output_type": "stream",
     "text": [
      "[[[0.         0.07450981 0.05882353]\n",
      "  [0.         0.06666667 0.0627451 ]\n",
      "  [0.03921569 0.05098039 0.08235294]\n",
      "  ...\n",
      "  [0.         0.38431373 0.10980392]\n",
      "  [0.         0.38431373 0.09019608]\n",
      "  [0.         0.36862746 0.06666667]]\n",
      "\n",
      " [[0.         0.07843138 0.05490196]\n",
      "  [0.         0.07058824 0.05882353]\n",
      "  [0.03921569 0.05490196 0.07450981]\n",
      "  ...\n",
      "  [0.         0.3529412  0.09411765]\n",
      "  [0.00392157 0.38039216 0.10588235]\n",
      "  [0.         0.3764706  0.08627451]]\n",
      "\n",
      " [[0.         0.08235294 0.04705882]\n",
      "  [0.         0.07450981 0.05490196]\n",
      "  [0.03137255 0.05882353 0.07058824]\n",
      "  ...\n",
      "  [0.         0.32156864 0.09411765]\n",
      "  [0.00392157 0.3372549  0.09411765]\n",
      "  [0.         0.32941177 0.07058824]]\n",
      "\n",
      " ...\n",
      "\n",
      " [[0.15686275 0.21568628 0.04313726]\n",
      "  [0.39607844 0.40392157 0.16862746]\n",
      "  [0.827451   0.73333335 0.38039216]\n",
      "  ...\n",
      "  [0.28627452 0.7254902  0.77254903]\n",
      "  [0.30588236 0.74509805 0.7921569 ]\n",
      "  [0.31764707 0.75686276 0.8039216 ]]\n",
      "\n",
      " [[0.16470589 0.22352941 0.05098039]\n",
      "  [0.3882353  0.39607844 0.16078432]\n",
      "  [0.8352941  0.7411765  0.3882353 ]\n",
      "  ...\n",
      "  [0.3019608  0.7529412  0.79607844]\n",
      "  [0.3137255  0.7647059  0.80784315]\n",
      "  [0.3254902  0.7647059  0.8117647 ]]\n",
      "\n",
      " [[0.16470589 0.22352941 0.05098039]\n",
      "  [0.3882353  0.39607844 0.16078432]\n",
      "  [0.8352941  0.7411765  0.3882353 ]\n",
      "  ...\n",
      "  [0.3019608  0.7529412  0.79607844]\n",
      "  [0.3137255  0.7647059  0.80784315]\n",
      "  [0.3254902  0.7647059  0.8117647 ]]]\n"
     ]
    }
   ],
   "source": [
    "normalized_image = image/255.0\n",
    "print(normalized_image)"
   ]
  },
  {
   "cell_type": "markdown",
   "id": "57d63e41-0e20-4ee8-9e48-a27d7f07fb22",
   "metadata": {},
   "source": [
    "\n",
    "\n",
    "#### Standardization (z-score normalization)"
   ]
  },
  {
   "cell_type": "code",
   "execution_count": 42,
   "id": "1fa1986c-3a0d-40a3-a7cf-f84e76589a5f",
   "metadata": {},
   "outputs": [
    {
     "name": "stdout",
     "output_type": "stream",
     "text": [
      "[[[  0.  19.  15.]\n",
      "  [  0.  17.  16.]\n",
      "  [ 10.  13.  21.]\n",
      "  ...\n",
      "  [  0.  98.  28.]\n",
      "  [  0.  98.  23.]\n",
      "  [  0.  94.  17.]]\n",
      "\n",
      " [[  0.  20.  14.]\n",
      "  [  0.  18.  15.]\n",
      "  [ 10.  14.  19.]\n",
      "  ...\n",
      "  [  0.  90.  24.]\n",
      "  [  1.  97.  27.]\n",
      "  [  0.  96.  22.]]\n",
      "\n",
      " [[  0.  21.  12.]\n",
      "  [  0.  19.  14.]\n",
      "  [  8.  15.  18.]\n",
      "  ...\n",
      "  [  0.  82.  24.]\n",
      "  [  1.  86.  24.]\n",
      "  [  0.  84.  18.]]\n",
      "\n",
      " ...\n",
      "\n",
      " [[ 40.  55.  11.]\n",
      "  [101. 103.  43.]\n",
      "  [211. 187.  97.]\n",
      "  ...\n",
      "  [ 73. 185. 197.]\n",
      "  [ 78. 190. 202.]\n",
      "  [ 81. 193. 205.]]\n",
      "\n",
      " [[ 42.  57.  13.]\n",
      "  [ 99. 101.  41.]\n",
      "  [213. 189.  99.]\n",
      "  ...\n",
      "  [ 77. 192. 203.]\n",
      "  [ 80. 195. 206.]\n",
      "  [ 83. 195. 207.]]\n",
      "\n",
      " [[ 42.  57.  13.]\n",
      "  [ 99. 101.  41.]\n",
      "  [213. 189.  99.]\n",
      "  ...\n",
      "  [ 77. 192. 203.]\n",
      "  [ 80. 195. 206.]\n",
      "  [ 83. 195. 207.]]]\n"
     ]
    }
   ],
   "source": [
    "image = cv2.imread('example.jpeg').astype(np.float32)\n",
    "print(image)"
   ]
  },
  {
   "cell_type": "code",
   "execution_count": 44,
   "id": "bc7501f3-a5b9-4d91-b5da-54711284b84e",
   "metadata": {},
   "outputs": [
    {
     "name": "stdout",
     "output_type": "stream",
     "text": [
      "108.46383\n"
     ]
    }
   ],
   "source": [
    "mean = np.mean(image)\n",
    "print(mean)"
   ]
  },
  {
   "cell_type": "code",
   "execution_count": 46,
   "id": "060fa455-f7f5-4cb6-a33e-0c35ddc7dc95",
   "metadata": {},
   "outputs": [
    {
     "name": "stdout",
     "output_type": "stream",
     "text": [
      "73.24034\n"
     ]
    }
   ],
   "source": [
    "std = np.std(image)\n",
    "print(std)"
   ]
  },
  {
   "cell_type": "code",
   "execution_count": 48,
   "id": "7b0efaf5-2321-4ee2-b66a-0db9ccbc4220",
   "metadata": {},
   "outputs": [
    {
     "name": "stdout",
     "output_type": "stream",
     "text": [
      "[[[-1.4809301  -1.2215103  -1.276125  ]\n",
      "  [-1.4809301  -1.2488177  -1.2624713 ]\n",
      "  [-1.3443934  -1.3034323  -1.1942029 ]\n",
      "  ...\n",
      "  [-1.4809301  -0.14286974 -1.0986272 ]\n",
      "  [-1.4809301  -0.14286974 -1.1668955 ]\n",
      "  [-1.4809301  -0.19748446 -1.2488177 ]]\n",
      "\n",
      " [[-1.4809301  -1.2078565  -1.2897787 ]\n",
      "  [-1.4809301  -1.2351639  -1.276125  ]\n",
      "  [-1.3443934  -1.2897787  -1.2215103 ]\n",
      "  ...\n",
      "  [-1.4809301  -0.25209916 -1.1532419 ]\n",
      "  [-1.4672765  -0.15652342 -1.1122808 ]\n",
      "  [-1.4809301  -0.1701771  -1.1805493 ]]\n",
      "\n",
      " [[-1.4809301  -1.1942029  -1.317086  ]\n",
      "  [-1.4809301  -1.2215103  -1.2897787 ]\n",
      "  [-1.3717008  -1.276125   -1.2351639 ]\n",
      "  ...\n",
      "  [-1.4809301  -0.3613286  -1.1532419 ]\n",
      "  [-1.4672765  -0.30671388 -1.1532419 ]\n",
      "  [-1.4809301  -0.33402124 -1.2351639 ]]\n",
      "\n",
      " ...\n",
      "\n",
      " [[-0.93478304 -0.7299779  -1.3307397 ]\n",
      "  [-0.10190871 -0.07460136 -0.893822  ]\n",
      "  [ 1.3999958   1.0723076  -0.15652342]\n",
      "  ...\n",
      "  [-0.48421168  1.0450002   1.2088443 ]\n",
      "  [-0.4159433   1.1132686   1.2771127 ]\n",
      "  [-0.37498227  1.1542296   1.3180737 ]]\n",
      "\n",
      " [[-0.9074757  -0.7026705  -1.3034323 ]\n",
      "  [-0.12921607 -0.10190871 -0.92112935]\n",
      "  [ 1.4273032   1.0996149  -0.12921607]\n",
      "  ...\n",
      "  [-0.42959696  1.1405759   1.2907664 ]\n",
      "  [-0.38863593  1.1815369   1.3317274 ]\n",
      "  [-0.3476749   1.1815369   1.3453811 ]]\n",
      "\n",
      " [[-0.9074757  -0.7026705  -1.3034323 ]\n",
      "  [-0.12921607 -0.10190871 -0.92112935]\n",
      "  [ 1.4273032   1.0996149  -0.12921607]\n",
      "  ...\n",
      "  [-0.42959696  1.1405759   1.2907664 ]\n",
      "  [-0.38863593  1.1815369   1.3317274 ]\n",
      "  [-0.3476749   1.1815369   1.3453811 ]]]\n"
     ]
    }
   ],
   "source": [
    "standardized_image = (image - mean)/ std\n",
    "print(standardized_image)"
   ]
  },
  {
   "cell_type": "markdown",
   "id": "f894d28f-27f5-4b3c-92e8-aa57201755b7",
   "metadata": {},
   "source": [
    "###### Ruth.O.Ajagunna"
   ]
  }
 ],
 "metadata": {
  "kernelspec": {
   "display_name": "Python 3 (ipykernel)",
   "language": "python",
   "name": "python3"
  },
  "language_info": {
   "codemirror_mode": {
    "name": "ipython",
    "version": 3
   },
   "file_extension": ".py",
   "mimetype": "text/x-python",
   "name": "python",
   "nbconvert_exporter": "python",
   "pygments_lexer": "ipython3",
   "version": "3.12.4"
  }
 },
 "nbformat": 4,
 "nbformat_minor": 5
}
