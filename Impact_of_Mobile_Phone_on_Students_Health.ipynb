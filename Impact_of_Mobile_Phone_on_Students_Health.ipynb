{
 "cells": [
  {
   "cell_type": "code",
   "execution_count": 208,
   "id": "29e13919-eb71-4216-9c3e-fa904312198d",
   "metadata": {},
   "outputs": [],
   "source": [
    "import pandas as pd\n",
    "import numpy as np\n",
    "import matplotlib.pyplot as plt\n",
    "import seaborn as sns"
   ]
  },
  {
   "cell_type": "code",
   "execution_count": 210,
   "id": "238cac01-6511-4edd-85cd-3b19a870afad",
   "metadata": {},
   "outputs": [
    {
     "name": "stdout",
     "output_type": "stream",
     "text": [
      "       Names    Age Gender  Mobile Phone  Mobile Operating System   \\\n",
      "0        Ali  21-25    Male           Yes                  Android   \n",
      "1      Bilal  21-25    Male           Yes                  Android   \n",
      "2     Hammad  21-25    Male           Yes                      IOS   \n",
      "3   Abdullah  21-25    Male           Yes                  Android   \n",
      "4      Waqar  21-25    Male           Yes                      IOS   \n",
      "..       ...    ...     ...           ...                      ...   \n",
      "95    Zahoor  21-25    Male           Yes                      IOS   \n",
      "96    Hafeez  16-20    Male           Yes                  Android   \n",
      "97     Babar  16-20    Male           Yes                  Android   \n",
      "98    Rizwan  16-20    Male           Yes                  Android   \n",
      "99     Lubna  21-25  Female           Yes                  Android   \n",
      "\n",
      "   Mobile phone use for education Mobile phone activities  \\\n",
      "0                       Sometimes            Social Media   \n",
      "1                       Sometimes            Social Media   \n",
      "2                       Sometimes            All of these   \n",
      "3                      Frequently            All of these   \n",
      "4                      Frequently            All of these   \n",
      "..                            ...                     ...   \n",
      "95                      Sometimes            All of these   \n",
      "96                      Sometimes            Social Media   \n",
      "97                      Sometimes            All of these   \n",
      "98                      Sometimes            All of these   \n",
      "99                      Sometimes            Social Media   \n",
      "\n",
      "   Helpful for studying    Educational Apps Daily usages Performance impact  \\\n",
      "0                   Yes  Educational Videos    4-6 hours              Agree   \n",
      "1                   Yes  Educational Videos    4-6 hours            Neutral   \n",
      "2                   Yes  Educational Videos    4-6 hours     Strongly agree   \n",
      "3                   Yes  Educational Videos    2-4 hours     Strongly agree   \n",
      "4                   Yes  Educational Videos    > 6 hours              Agree   \n",
      "..                  ...                 ...          ...                ...   \n",
      "95                  Yes  Educational Videos    > 6 hours              Agree   \n",
      "96                  Yes  Educational Videos    4-6 hours     Strongly agree   \n",
      "97                  Yes  Educational Videos    2-4 hours              Agree   \n",
      "98                  Yes  Educational Videos    4-6 hours              Agree   \n",
      "99                  Yes       Study Planner    4-6 hours            Neutral   \n",
      "\n",
      "        Usage distraction Attention span   Useful features    Health Risks  \\\n",
      "0            During Exams            Yes            Camera             Yes   \n",
      "1            During Exams            Yes  Notes Taking App             Yes   \n",
      "2         Not Distracting             No            Camera             Yes   \n",
      "3   During Class Lectures             No   Internet Access  Only Partially   \n",
      "4          While Studying            Yes   Internet Access              No   \n",
      "..                    ...            ...               ...             ...   \n",
      "95           During Exams            Yes   Internet Access             Yes   \n",
      "96  During Class Lectures             No  Notes Taking App              No   \n",
      "97         While Studying             No   Internet Access              No   \n",
      "98           During Exams             No   Internet Access             Yes   \n",
      "99           During Exams            Yes   Internet Access  Only Partially   \n",
      "\n",
      "   Beneficial subject     Usage symptoms Symptom frequency  \\\n",
      "0          Accounting           Headache             Never   \n",
      "1   Browsing Material       All of these         Sometimes   \n",
      "2   Browsing Material       All of these         Sometimes   \n",
      "3            Reasarch                NaN             Never   \n",
      "4   Browsing Material  Sleep disturbance         Sometimes   \n",
      "..                ...                ...               ...   \n",
      "95           Reasarch           Headache         Sometimes   \n",
      "96           Reasarch  Anxiety or Stress         Sometimes   \n",
      "97           Reasarch           Headache             Never   \n",
      "98           Reasarch           Headache            Rarely   \n",
      "99  Browsing Material  Sleep disturbance         Sometimes   \n",
      "\n",
      "                   Health precautions   Health rating  \n",
      "0             Using Blue light filter       Excellent  \n",
      "1   Taking Break during prolonged use            Good  \n",
      "2                       None of Above       Excellent  \n",
      "3                Limiting Screen Time       Excellent  \n",
      "4                       None of Above       Excellent  \n",
      "..                                ...             ...  \n",
      "95  Taking Break during prolonged use       Excellent  \n",
      "96  Taking Break during prolonged use            Good  \n",
      "97               Limiting Screen Time       Excellent  \n",
      "98               Limiting Screen Time  Excellent;Good  \n",
      "99               Limiting Screen Time       Excellent  \n",
      "\n",
      "[100 rows x 20 columns]\n"
     ]
    }
   ],
   "source": [
    "df=pd.read_csv(\"Impact_of_Mobile_Phone_on_Students_Health.csv\")\n",
    "print(df)"
   ]
  },
  {
   "cell_type": "code",
   "execution_count": 212,
   "id": "f5bd9132-71cc-4ecd-9ed5-002c14cc26d6",
   "metadata": {},
   "outputs": [
    {
     "name": "stdout",
     "output_type": "stream",
     "text": [
      "      Names    Age Gender  Mobile Phone  Mobile Operating System   \\\n",
      "0       Ali  21-25    Male           Yes                  Android   \n",
      "1     Bilal  21-25    Male           Yes                  Android   \n",
      "2    Hammad  21-25    Male           Yes                      IOS   \n",
      "3  Abdullah  21-25    Male           Yes                  Android   \n",
      "4     Waqar  21-25    Male           Yes                      IOS   \n",
      "\n",
      "  Mobile phone use for education Mobile phone activities Helpful for studying  \\\n",
      "0                      Sometimes            Social Media                  Yes   \n",
      "1                      Sometimes            Social Media                  Yes   \n",
      "2                      Sometimes            All of these                  Yes   \n",
      "3                     Frequently            All of these                  Yes   \n",
      "4                     Frequently            All of these                  Yes   \n",
      "\n",
      "     Educational Apps Daily usages Performance impact      Usage distraction  \\\n",
      "0  Educational Videos    4-6 hours              Agree           During Exams   \n",
      "1  Educational Videos    4-6 hours            Neutral           During Exams   \n",
      "2  Educational Videos    4-6 hours     Strongly agree        Not Distracting   \n",
      "3  Educational Videos    2-4 hours     Strongly agree  During Class Lectures   \n",
      "4  Educational Videos    > 6 hours              Agree         While Studying   \n",
      "\n",
      "  Attention span   Useful features    Health Risks Beneficial subject  \\\n",
      "0            Yes            Camera             Yes         Accounting   \n",
      "1            Yes  Notes Taking App             Yes  Browsing Material   \n",
      "2             No            Camera             Yes  Browsing Material   \n",
      "3             No   Internet Access  Only Partially           Reasarch   \n",
      "4            Yes   Internet Access              No  Browsing Material   \n",
      "\n",
      "      Usage symptoms Symptom frequency                 Health precautions  \\\n",
      "0           Headache             Never            Using Blue light filter   \n",
      "1       All of these         Sometimes  Taking Break during prolonged use   \n",
      "2       All of these         Sometimes                      None of Above   \n",
      "3                NaN             Never               Limiting Screen Time   \n",
      "4  Sleep disturbance         Sometimes                      None of Above   \n",
      "\n",
      "  Health rating  \n",
      "0     Excellent  \n",
      "1          Good  \n",
      "2     Excellent  \n",
      "3     Excellent  \n",
      "4     Excellent  \n"
     ]
    }
   ],
   "source": [
    "print(df.head())"
   ]
  },
  {
   "cell_type": "code",
   "execution_count": 214,
   "id": "515c3b20-18f1-41f6-a2b2-086dbbd5d694",
   "metadata": {},
   "outputs": [
    {
     "name": "stdout",
     "output_type": "stream",
     "text": [
      "<class 'pandas.core.frame.DataFrame'>\n",
      "RangeIndex: 100 entries, 0 to 99\n",
      "Data columns (total 20 columns):\n",
      " #   Column                          Non-Null Count  Dtype \n",
      "---  ------                          --------------  ----- \n",
      " 0   Names                           100 non-null    object\n",
      " 1   Age                             100 non-null    object\n",
      " 2   Gender                          100 non-null    object\n",
      " 3   Mobile Phone                    100 non-null    object\n",
      " 4   Mobile Operating System         100 non-null    object\n",
      " 5   Mobile phone use for education  98 non-null     object\n",
      " 6   Mobile phone activities         99 non-null     object\n",
      " 7   Helpful for studying            98 non-null     object\n",
      " 8   Educational Apps                98 non-null     object\n",
      " 9   Daily usages                    99 non-null     object\n",
      " 10  Performance impact              98 non-null     object\n",
      " 11  Usage distraction               98 non-null     object\n",
      " 12  Attention span                  99 non-null     object\n",
      " 13  Useful features                 98 non-null     object\n",
      " 14  Health Risks                    98 non-null     object\n",
      " 15  Beneficial subject              99 non-null     object\n",
      " 16  Usage symptoms                  98 non-null     object\n",
      " 17  Symptom frequency               99 non-null     object\n",
      " 18  Health precautions              99 non-null     object\n",
      " 19  Health rating                   99 non-null     object\n",
      "dtypes: object(20)\n",
      "memory usage: 15.8+ KB\n",
      "None\n"
     ]
    }
   ],
   "source": [
    "print(df.info())"
   ]
  },
  {
   "cell_type": "code",
   "execution_count": 89,
   "id": "4f9cea68-7162-4136-b58a-ad79751f49da",
   "metadata": {},
   "outputs": [
    {
     "name": "stdout",
     "output_type": "stream",
     "text": [
      "       Names    Age Gender  Mobile Phone  Mobile Operating System   \\\n",
      "count    100    100     100           100                      100   \n",
      "unique   100      4       2             1                        2   \n",
      "top      Ali  21-25    Male           Yes                  Android   \n",
      "freq       1     72      81           100                       81   \n",
      "\n",
      "       Mobile phone use for education Mobile phone activities  \\\n",
      "count                              98                      99   \n",
      "unique                              4                       7   \n",
      "top                         Sometimes            All of these   \n",
      "freq                               53                      59   \n",
      "\n",
      "       Helpful for studying    Educational Apps Daily usages  \\\n",
      "count                    98                  98           99   \n",
      "unique                    2                   4            4   \n",
      "top                     Yes  Educational Videos    4-6 hours   \n",
      "freq                     94                  54           40   \n",
      "\n",
      "       Performance impact Usage distraction Attention span  Useful features  \\\n",
      "count                  98                98             99               98   \n",
      "unique                  5                 4              2                4   \n",
      "top                 Agree    While Studying            Yes  Internet Access   \n",
      "freq                   40                34             70               70   \n",
      "\n",
      "       Health Risks Beneficial subject Usage symptoms Symptom frequency  \\\n",
      "count            98                 99             98                99   \n",
      "unique            3                  3              6                 4   \n",
      "top             Yes           Reasarch   All of these         Sometimes   \n",
      "freq             57                 48             32                52   \n",
      "\n",
      "          Health precautions Health rating  \n",
      "count                     99            99  \n",
      "unique                     4             7  \n",
      "top     Limiting Screen Time          Good  \n",
      "freq                      35            42  \n"
     ]
    }
   ],
   "source": [
    "print(df.describe(include='all'))"
   ]
  },
  {
   "cell_type": "code",
   "execution_count": 216,
   "id": "2afb3c66-ed27-4f9e-b9ca-bc2aa8079f86",
   "metadata": {},
   "outputs": [
    {
     "name": "stdout",
     "output_type": "stream",
     "text": [
      "Names                             0\n",
      "Age                               0\n",
      "Gender                            0\n",
      "Mobile Phone                      0\n",
      "Mobile Operating System           0\n",
      "Mobile phone use for education    2\n",
      "Mobile phone activities           1\n",
      "Helpful for studying              2\n",
      "Educational Apps                  2\n",
      "Daily usages                      1\n",
      "Performance impact                2\n",
      "Usage distraction                 2\n",
      "Attention span                    1\n",
      "Useful features                   2\n",
      "Health Risks                      2\n",
      "Beneficial subject                1\n",
      "Usage symptoms                    2\n",
      "Symptom frequency                 1\n",
      "Health precautions                1\n",
      "Health rating                     1\n",
      "dtype: int64\n"
     ]
    }
   ],
   "source": [
    "print(df.isnull().sum())"
   ]
  },
  {
   "cell_type": "markdown",
   "id": "050fa414-1fa7-49eb-a0b9-73d32a97fd60",
   "metadata": {},
   "source": [
    "#### Q.1 How does the student report the health ratings?\n",
    "#### Display the unique health ratings reported by the students"
   ]
  },
  {
   "cell_type": "code",
   "execution_count": 218,
   "id": "ddcc9794-2017-4213-871c-986a7892721b",
   "metadata": {},
   "outputs": [
    {
     "name": "stdout",
     "output_type": "stream",
     "text": [
      "['Excellent' 'Good' 'Fair' 'Good;Fair' 'Excellent;Good' 'Poor' nan\n",
      " 'Excellent;Good;Fair;Poor']\n"
     ]
    }
   ],
   "source": [
    "\n",
    "health_ratings = df['Health rating'].unique()\n",
    "print(health_ratings)\n"
   ]
  },
  {
   "cell_type": "markdown",
   "id": "7278d837-1a02-43a0-9470-d6ad2ed3d7f6",
   "metadata": {},
   "source": [
    "#### Q.2 Health risks associated with mobile phone usage among students.\n",
    "#### Display the unique values and their counts for the 'Health Risks' column to understand the impact of mobile phone usage on student health."
   ]
  },
  {
   "cell_type": "code",
   "execution_count": 220,
   "id": "624331ba-bdba-4b78-b3ad-c45b40926368",
   "metadata": {},
   "outputs": [
    {
     "name": "stdout",
     "output_type": "stream",
     "text": [
      "Health Risks\n",
      "Yes               57\n",
      "Only Partially    21\n",
      "No                20\n",
      "Name: count, dtype: int64\n"
     ]
    }
   ],
   "source": [
    "\n",
    "impact_on_health_counts = df['Health Risks'].value_counts()\n",
    "print(impact_on_health_counts)\n",
    "\n"
   ]
  },
  {
   "cell_type": "markdown",
   "id": "fd99e80d-602d-4915-996b-8628c8f7f0f8",
   "metadata": {},
   "source": [
    "\n",
    "#### Q3.The most common reasons for mobile phone usage among students are:\n",
    "#### Display the unique values and their counts for the 'Mobile phone activities' column\n"
   ]
  },
  {
   "cell_type": "code",
   "execution_count": 222,
   "id": "645377cc-3653-4839-aebf-e62364300efa",
   "metadata": {},
   "outputs": [
    {
     "name": "stdout",
     "output_type": "stream",
     "text": [
      "Mobile phone activities\n",
      "All of these                                        59\n",
      "Social Media                                        22\n",
      "Social Media;Web-browsing;Messaging;All of these     7\n",
      "Web-browsing                                         5\n",
      "Messaging                                            3\n",
      "Social Media;All of these                            2\n",
      "Social Media;Messaging                               1\n",
      "Name: count, dtype: int64\n"
     ]
    }
   ],
   "source": [
    "\n",
    "mobile_phone_activities_counts = df['Mobile phone activities'].value_counts()\n",
    "print(mobile_phone_activities_counts)\n"
   ]
  },
  {
   "cell_type": "markdown",
   "id": "fed54d79-de62-4a42-b121-d633ec0a25dc",
   "metadata": {},
   "source": [
    "#### Q.4 What specific health risks do students associate with mobile phone usage?\n",
    "#### Display the unique values and their counts for the 'Usage symptoms' column to understand the specific health risks associated with mobile phone usage.\n"
   ]
  },
  {
   "cell_type": "code",
   "execution_count": 224,
   "id": "8c25b307-6cd3-4d2e-b178-c74afb2258db",
   "metadata": {},
   "outputs": [
    {
     "name": "stdout",
     "output_type": "stream",
     "text": [
      "Usage symptoms\n",
      "All of these                                                 32\n",
      "Sleep disturbance                                            26\n",
      "Headache                                                     23\n",
      "Anxiety or Stress                                            12\n",
      "Sleep disturbance;Anxiety or Stress                           4\n",
      "Headache;Sleep disturbance;Anxiety or Stress;All of these     1\n",
      "Name: count, dtype: int64\n"
     ]
    }
   ],
   "source": [
    "\n",
    "usage_symptoms_counts = df['Usage symptoms'].value_counts()\n",
    "print(usage_symptoms_counts)\n"
   ]
  },
  {
   "cell_type": "markdown",
   "id": "40115db0-c63d-41f4-9490-27590fd2db5c",
   "metadata": {},
   "source": [
    "#### Q.5 Are there any correlations between the frequency of mobile phone usage and the reported health risks among students?\n",
    "##### Calculate the correlation between the frequency of mobile phone usage and the reported health risks among students.\n",
    "##### We will use the 'Daily usages' and 'Health Risks' columns for this analysis.\n",
    "##### First, let's convert the 'Daily usages' column to numerical values for correlation analysis.\n"
   ]
  },
  {
   "cell_type": "code",
   "execution_count": 226,
   "id": "3b973224-a432-48c2-baca-da937afadf3f",
   "metadata": {},
   "outputs": [],
   "source": [
    "usage_mapping = {\n",
    "    'Less than 1 hour': 1,\n",
    "    '1-2 hours': 2,\n",
    "    '2-4 hours': 3,\n",
    "    '4-6 hours': 4,\n",
    "    'More than 6 hours': 5\n",
    "}\n",
    "df['Daily usages (numeric)'] = df['Daily usages'].map(usage_mapping)"
   ]
  },
  {
   "cell_type": "markdown",
   "id": "ddc62574-52cc-4548-a791-0aeb794c8d92",
   "metadata": {},
   "source": [
    "##### Convert 'Health Risks' to binary values (1 for 'Yes', 0 for 'No' and 'Only Partially')"
   ]
  },
  {
   "cell_type": "code",
   "execution_count": 229,
   "id": "88c0ff10-20bb-4ade-b7ba-7eca49c2a754",
   "metadata": {},
   "outputs": [],
   "source": [
    "health_risks_mapping = {\n",
    "    'Yes': 1,\n",
    "    'No': 0,\n",
    "    'Only Partially': 0\n",
    "}\n",
    "df['Health Risks (binary)'] = df['Health Risks'].map(health_risks_mapping)"
   ]
  },
  {
   "cell_type": "markdown",
   "id": "0c8dd41a-f755-4f31-82d2-1df97f286584",
   "metadata": {},
   "source": [
    "##### Calculate the correlation"
   ]
  },
  {
   "cell_type": "code",
   "execution_count": 231,
   "id": "08153552-0513-49f7-aa35-6fbd820b7017",
   "metadata": {},
   "outputs": [
    {
     "name": "stdout",
     "output_type": "stream",
     "text": [
      "                        Daily usages (numeric)  Health Risks (binary)\n",
      "Daily usages (numeric)                1.000000              -0.052414\n",
      "Health Risks (binary)                -0.052414               1.000000\n"
     ]
    }
   ],
   "source": [
    "correlation = df[['Daily usages (numeric)', 'Health Risks (binary)']].corr()\n",
    "print(correlation)"
   ]
  },
  {
   "cell_type": "markdown",
   "id": "e90e2e41-4cb9-4fc4-bf1b-009276df30e1",
   "metadata": {},
   "source": [
    "#### The correlation matrix shows the following:\n",
    "##### The daily mobile phone usage and health risks correlate to approximately -0.052.\n",
    "##### This indicates a very weak negative correlation between the frequency of mobile phone usage and the reported health risks among students."
   ]
  },
  {
   "cell_type": "markdown",
   "id": "b5a98bde-1599-4e36-878b-a3f25dbd299c",
   "metadata": {},
   "source": [
    "#### Visualize the distribution of Age"
   ]
  },
  {
   "cell_type": "code",
   "execution_count": 233,
   "id": "a84b224d-b789-4b95-acf0-ccddec4c101a",
   "metadata": {},
   "outputs": [
    {
     "data": {
      "image/png": "[encoded data removed]",
      "text/plain": [
       "<Figure size 1000x600 with 1 Axes>"
      ]
     },
     "metadata": {},
     "output_type": "display_data"
    }
   ],
   "source": [
    "plt.figure(figsize=(10, 6))\n",
    "sns.countplot(data=df, x='Age')\n",
    "plt.title('Distribution of Age')\n",
    "plt.xlabel('Age Group')\n",
    "plt.ylabel('Count')\n",
    "plt.show()"
   ]
  },
  {
   "cell_type": "markdown",
   "id": "b8944605-b545-4553-a698-6aa476c517fe",
   "metadata": {},
   "source": [
    "#### Visualize the distribution of Gender"
   ]
  },
  {
   "cell_type": "code",
   "execution_count": 235,
   "id": "77fddba8-5511-46bc-814b-e749b1946e0b",
   "metadata": {},
   "outputs": [
    {
     "data": {
      "image/png": "[encoded data removed]",
      "text/plain": [
       "<Figure size 1000x600 with 1 Axes>"
      ]
     },
     "metadata": {},
     "output_type": "display_data"
    }
   ],
   "source": [
    "\n",
    "plt.figure(figsize=(10, 6))\n",
    "sns.countplot(data=df, x='Gender ')\n",
    "plt.title('Distribution of Gender')\n",
    "plt.xlabel('Gender')\n",
    "plt.ylabel('Count')\n",
    "plt.show()\n"
   ]
  },
  {
   "cell_type": "markdown",
   "id": "0c59d7c6-3a91-45ca-a9ad-6b97e61d45f9",
   "metadata": {},
   "source": [
    "#### Visualize the distribution of Mobile Operating System"
   ]
  },
  {
   "cell_type": "code",
   "execution_count": 237,
   "id": "96a46e8f-f214-4c6c-aaf4-718cfdfb1102",
   "metadata": {},
   "outputs": [
    {
     "data": {
      "image/png": "[encoded data removed]",
      "text/plain": [
       "<Figure size 1000x600 with 1 Axes>"
      ]
     },
     "metadata": {},
     "output_type": "display_data"
    }
   ],
   "source": [
    "\n",
    "plt.figure(figsize=(10, 6))\n",
    "sns.countplot(data=df, x='Mobile Operating System ')\n",
    "plt.title('Distribution of Mobile Operating System')\n",
    "plt.xlabel('Mobile Operating System')\n",
    "plt.ylabel('Count')\n",
    "plt.show()\n"
   ]
  },
  {
   "cell_type": "markdown",
   "id": "3fb47ace-8f0b-4710-83a4-15b76aec53d0",
   "metadata": {},
   "source": [
    "#### Visualize the distribution of Daily usages"
   ]
  },
  {
   "cell_type": "code",
   "execution_count": 239,
   "id": "a42526c9-1b0a-4aa0-9af4-2e6fe28d5d4f",
   "metadata": {},
   "outputs": [
    {
     "data": {
      "image/png": "[encoded data removed]",
      "text/plain": [
       "<Figure size 1000x600 with 1 Axes>"
      ]
     },
     "metadata": {},
     "output_type": "display_data"
    }
   ],
   "source": [
    "\n",
    "plt.figure(figsize=(10, 6))\n",
    "sns.countplot(data=df, x='Daily usages')\n",
    "plt.title('Distribution of Daily Usages')\n",
    "plt.xlabel('Daily Usages')\n",
    "plt.ylabel('Count')\n",
    "plt.show()"
   ]
  },
  {
   "cell_type": "markdown",
   "id": "2f7cd30c-2cfd-45ea-9805-1a8528507e6f",
   "metadata": {},
   "source": [
    "#### Visualize the impact on performance"
   ]
  },
  {
   "cell_type": "code",
   "execution_count": 241,
   "id": "fc09ba13-a2a6-48cc-9355-287da4b677b3",
   "metadata": {},
   "outputs": [
    {
     "data": {
      "image/png": "[encoded data removed]",
      "text/plain": [
       "<Figure size 1000x600 with 1 Axes>"
      ]
     },
     "metadata": {},
     "output_type": "display_data"
    }
   ],
   "source": [
    "\n",
    "plt.figure(figsize=(10, 6))\n",
    "sns.countplot(data=df, x='Performance impact')\n",
    "plt.title('Impact on Performance')\n",
    "plt.xlabel('Performance Impact')\n",
    "plt.ylabel('Count')\n",
    "plt.show()"
   ]
  },
  {
   "cell_type": "markdown",
   "id": "7d9bd463-e38f-448f-af2e-03fa2ed157a0",
   "metadata": {},
   "source": [
    "#### Select relevant columns for correlation analysis"
   ]
  },
  {
   "cell_type": "code",
   "execution_count": 245,
   "id": "1ec7b9fd-99cd-46a5-9e21-83f30c2390ea",
   "metadata": {},
   "outputs": [],
   "source": [
    "\n",
    "correlation_data = df[['Daily usages', 'Symptom frequency']]\n"
   ]
  },
  {
   "cell_type": "code",
   "execution_count": 247,
   "id": "68146e9a-0266-456f-98ec-782d8a228d61",
   "metadata": {},
   "outputs": [
    {
     "name": "stdout",
     "output_type": "stream",
     "text": [
      "Daily usages         object\n",
      "Symptom frequency    object\n",
      "dtype: object\n",
      "Index(['Daily usages', 'Symptom frequency'], dtype='object')\n"
     ]
    }
   ],
   "source": [
    "print(correlation_data.dtypes)\n",
    "numeric_data = correlation_data.select_dtypes(include=[float, int])\n",
    "correlation_matrix = numeric_data.corr()\n",
    "\n",
    "\n",
    "non_numeric_columns = correlation_data.select_dtypes(exclude=[np.number]).columns\n",
    "print(non_numeric_columns)\n"
   ]
  },
  {
   "cell_type": "code",
   "execution_count": 280,
   "id": "1bccafb8-8a29-424b-924e-af1b9bb16006",
   "metadata": {},
   "outputs": [
    {
     "name": "stdout",
     "output_type": "stream",
     "text": [
      "  Daily usages Symptom frequency\n",
      "0    4-6 hours             Never\n",
      "1    4-6 hours         Sometimes\n",
      "2    4-6 hours         Sometimes\n",
      "3    2-4 hours             Never\n",
      "4    > 6 hours         Sometimes\n"
     ]
    }
   ],
   "source": [
    "print(correlation_data.head())\n",
    "\n"
   ]
  },
  {
   "cell_type": "markdown",
   "id": "a31465c3-d38e-43ff-900c-d3a3155fc818",
   "metadata": {},
   "source": [
    "#### Calculate the correlation matrix"
   ]
  },
  {
   "cell_type": "code",
   "execution_count": 282,
   "id": "63968cd2-c441-4ff5-839a-acc9fa08838c",
   "metadata": {},
   "outputs": [
    {
     "ename": "ValueError",
     "evalue": "could not convert string to float: '4-6 hours'",
     "output_type": "error",
     "traceback": [
      "\u001b[1;31m---------------------------------------------------------------------------\u001b[0m",
      "\u001b[1;31mValueError\u001b[0m                                Traceback (most recent call last)",
      "Cell \u001b[1;32mIn[282], line 1\u001b[0m\n\u001b[1;32m----> 1\u001b[0m correlation_matrix \u001b[38;5;241m=\u001b[39m \u001b[43mcorrelation_data\u001b[49m\u001b[38;5;241;43m.\u001b[39;49m\u001b[43mcorr\u001b[49m\u001b[43m(\u001b[49m\u001b[43m)\u001b[49m\n",
      "File \u001b[1;32m~\\anaconda3\\Lib\\site-packages\\pandas\\core\\frame.py:11049\u001b[0m, in \u001b[0;36mDataFrame.corr\u001b[1;34m(self, method, min_periods, numeric_only)\u001b[0m\n\u001b[0;32m  11047\u001b[0m cols \u001b[38;5;241m=\u001b[39m data\u001b[38;5;241m.\u001b[39mcolumns\n\u001b[0;32m  11048\u001b[0m idx \u001b[38;5;241m=\u001b[39m cols\u001b[38;5;241m.\u001b[39mcopy()\n\u001b[1;32m> 11049\u001b[0m mat \u001b[38;5;241m=\u001b[39m \u001b[43mdata\u001b[49m\u001b[38;5;241;43m.\u001b[39;49m\u001b[43mto_numpy\u001b[49m\u001b[43m(\u001b[49m\u001b[43mdtype\u001b[49m\u001b[38;5;241;43m=\u001b[39;49m\u001b[38;5;28;43mfloat\u001b[39;49m\u001b[43m,\u001b[49m\u001b[43m \u001b[49m\u001b[43mna_value\u001b[49m\u001b[38;5;241;43m=\u001b[39;49m\u001b[43mnp\u001b[49m\u001b[38;5;241;43m.\u001b[39;49m\u001b[43mnan\u001b[49m\u001b[43m,\u001b[49m\u001b[43m \u001b[49m\u001b[43mcopy\u001b[49m\u001b[38;5;241;43m=\u001b[39;49m\u001b[38;5;28;43;01mFalse\u001b[39;49;00m\u001b[43m)\u001b[49m\n\u001b[0;32m  11051\u001b[0m \u001b[38;5;28;01mif\u001b[39;00m method \u001b[38;5;241m==\u001b[39m \u001b[38;5;124m\"\u001b[39m\u001b[38;5;124mpearson\u001b[39m\u001b[38;5;124m\"\u001b[39m:\n\u001b[0;32m  11052\u001b[0m     correl \u001b[38;5;241m=\u001b[39m libalgos\u001b[38;5;241m.\u001b[39mnancorr(mat, minp\u001b[38;5;241m=\u001b[39mmin_periods)\n",
      "File \u001b[1;32m~\\anaconda3\\Lib\\site-packages\\pandas\\core\\frame.py:1993\u001b[0m, in \u001b[0;36mDataFrame.to_numpy\u001b[1;34m(self, dtype, copy, na_value)\u001b[0m\n\u001b[0;32m   1991\u001b[0m \u001b[38;5;28;01mif\u001b[39;00m dtype \u001b[38;5;129;01mis\u001b[39;00m \u001b[38;5;129;01mnot\u001b[39;00m \u001b[38;5;28;01mNone\u001b[39;00m:\n\u001b[0;32m   1992\u001b[0m     dtype \u001b[38;5;241m=\u001b[39m np\u001b[38;5;241m.\u001b[39mdtype(dtype)\n\u001b[1;32m-> 1993\u001b[0m result \u001b[38;5;241m=\u001b[39m \u001b[38;5;28;43mself\u001b[39;49m\u001b[38;5;241;43m.\u001b[39;49m\u001b[43m_mgr\u001b[49m\u001b[38;5;241;43m.\u001b[39;49m\u001b[43mas_array\u001b[49m\u001b[43m(\u001b[49m\u001b[43mdtype\u001b[49m\u001b[38;5;241;43m=\u001b[39;49m\u001b[43mdtype\u001b[49m\u001b[43m,\u001b[49m\u001b[43m \u001b[49m\u001b[43mcopy\u001b[49m\u001b[38;5;241;43m=\u001b[39;49m\u001b[43mcopy\u001b[49m\u001b[43m,\u001b[49m\u001b[43m \u001b[49m\u001b[43mna_value\u001b[49m\u001b[38;5;241;43m=\u001b[39;49m\u001b[43mna_value\u001b[49m\u001b[43m)\u001b[49m\n\u001b[0;32m   1994\u001b[0m \u001b[38;5;28;01mif\u001b[39;00m result\u001b[38;5;241m.\u001b[39mdtype \u001b[38;5;129;01mis\u001b[39;00m \u001b[38;5;129;01mnot\u001b[39;00m dtype:\n\u001b[0;32m   1995\u001b[0m     result \u001b[38;5;241m=\u001b[39m np\u001b[38;5;241m.\u001b[39masarray(result, dtype\u001b[38;5;241m=\u001b[39mdtype)\n",
      "File \u001b[1;32m~\\anaconda3\\Lib\\site-packages\\pandas\\core\\internals\\managers.py:1688\u001b[0m, in \u001b[0;36mBlockManager.as_array\u001b[1;34m(self, dtype, copy, na_value)\u001b[0m\n\u001b[0;32m   1686\u001b[0m     arr \u001b[38;5;241m=\u001b[39m np\u001b[38;5;241m.\u001b[39masarray(blk\u001b[38;5;241m.\u001b[39mvalues, dtype\u001b[38;5;241m=\u001b[39mdtype)\n\u001b[0;32m   1687\u001b[0m \u001b[38;5;28;01melse\u001b[39;00m:\n\u001b[1;32m-> 1688\u001b[0m     arr \u001b[38;5;241m=\u001b[39m \u001b[43mnp\u001b[49m\u001b[38;5;241;43m.\u001b[39;49m\u001b[43marray\u001b[49m\u001b[43m(\u001b[49m\u001b[43mblk\u001b[49m\u001b[38;5;241;43m.\u001b[39;49m\u001b[43mvalues\u001b[49m\u001b[43m,\u001b[49m\u001b[43m \u001b[49m\u001b[43mdtype\u001b[49m\u001b[38;5;241;43m=\u001b[39;49m\u001b[43mdtype\u001b[49m\u001b[43m,\u001b[49m\u001b[43m \u001b[49m\u001b[43mcopy\u001b[49m\u001b[38;5;241;43m=\u001b[39;49m\u001b[43mcopy\u001b[49m\u001b[43m)\u001b[49m\n\u001b[0;32m   1690\u001b[0m \u001b[38;5;28;01mif\u001b[39;00m using_copy_on_write() \u001b[38;5;129;01mand\u001b[39;00m \u001b[38;5;129;01mnot\u001b[39;00m copy:\n\u001b[0;32m   1691\u001b[0m     arr \u001b[38;5;241m=\u001b[39m arr\u001b[38;5;241m.\u001b[39mview()\n",
      "\u001b[1;31mValueError\u001b[0m: could not convert string to float: '4-6 hours'"
     ]
    }
   ],
   "source": [
    "correlation_matrix = correlation_data.corr()"
   ]
  },
  {
   "cell_type": "markdown",
   "id": "162d8acc-08c7-45f8-8c10-4a550d54c104",
   "metadata": {},
   "source": [
    "#### Plot the correlation matrix"
   ]
  },
  {
   "cell_type": "code",
   "execution_count": 285,
   "id": "33109692-7cd4-4ff9-8573-fbad3d826c80",
   "metadata": {},
   "outputs": [
    {
     "name": "stderr",
     "output_type": "stream",
     "text": [
      "C:\\Users\\user\\anaconda3\\Lib\\site-packages\\seaborn\\matrix.py:309: UserWarning: Attempting to set identical low and high xlims makes transformation singular; automatically expanding.\n",
      "  ax.set(xlim=(0, self.data.shape[1]), ylim=(0, self.data.shape[0]))\n",
      "C:\\Users\\user\\anaconda3\\Lib\\site-packages\\seaborn\\matrix.py:309: UserWarning: Attempting to set identical low and high ylims makes transformation singular; automatically expanding.\n",
      "  ax.set(xlim=(0, self.data.shape[1]), ylim=(0, self.data.shape[0]))\n"
     ]
    },
    {
     "data": {
      "image/png": "[encoded data removed]",
      "text/plain": [
       "<Figure size 800x600 with 2 Axes>"
      ]
     },
     "metadata": {},
     "output_type": "display_data"
    }
   ],
   "source": [
    "plt.figure(figsize=(8, 6))\n",
    "sns.heatmap(correlation_matrix, annot=True, cmap='coolwarm', vmin=-1, vmax=1)\n",
    "plt.title('Correlation between Mobile Phone Usage and Health Symptoms')\n",
    "plt.show()"
   ]
  },
  {
   "cell_type": "markdown",
   "id": "0467d884-6b85-42b8-8cb9-72bbc3d5acc9",
   "metadata": {},
   "source": [
    "#### Print the correlation matrix"
   ]
  },
  {
   "cell_type": "code",
   "execution_count": 288,
   "id": "4b62edf9-191d-4983-94d9-27dbb1a0c657",
   "metadata": {},
   "outputs": [
    {
     "name": "stdout",
     "output_type": "stream",
     "text": [
      "Empty DataFrame\n",
      "Columns: []\n",
      "Index: []\n"
     ]
    }
   ],
   "source": [
    "print(correlation_matrix)"
   ]
  },
  {
   "cell_type": "code",
   "execution_count": 290,
   "id": "a401ec4e-53c8-446e-909d-defe453a3e91",
   "metadata": {},
   "outputs": [
    {
     "name": "stdout",
     "output_type": "stream",
     "text": [
      "Index([], dtype='object')\n"
     ]
    }
   ],
   "source": [
    "print(correlation_data.select_dtypes(include=[np.number]).columns)\n"
   ]
  },
  {
   "cell_type": "markdown",
   "id": "95694c22-c405-4e88-8901-e26f04576e0c",
   "metadata": {},
   "source": [
    "\n",
    "\n",
    "\n",
    "\n",
    "\n",
    "\n",
    "\n",
    "#### Summary:\n",
    "- The majority of the students are in the age group 21-25.\n",
    "- There is a higher number of male students compared to female students.\n",
    "- Android is the most commonly used mobile operating system among the students.\n",
    "- Most students use their mobile phones for 4-6 hours daily.\n",
    "- The impact on performance varies, with many students agreeing that mobile phone usage impacts their performance.\n",
    "- The correlation between daily mobile phone usage and symptom frequency is approximately 0.13, indicating a weak positive correlation. \n",
    "- This suggests that as mobile phone usage increases, the frequency of health symptoms slightly increases as well, but the relationship is not strong."
   ]
  },
  {
   "cell_type": "code",
   "execution_count": null,
   "id": "535ef7d8-12f5-491f-94dd-cfc6c46c143a",
   "metadata": {},
   "outputs": [],
   "source": []
  },
  {
   "cell_type": "code",
   "execution_count": null,
   "id": "6d808c07-b88f-4f8d-bb41-3aed2ab96158",
   "metadata": {},
   "outputs": [],
   "source": []
  }
 ],
 "metadata": {
  "kernelspec": {
   "display_name": "Python 3 (ipykernel)",
   "language": "python",
   "name": "python3"
  },
  "language_info": {
   "codemirror_mode": {
    "name": "ipython",
    "version": 3
   },
   "file_extension": ".py",
   "mimetype": "text/x-python",
   "name": "python",
   "nbconvert_exporter": "python",
   "pygments_lexer": "ipython3",
   "version": "3.12.4"
  }
 },
 "nbformat": 4,
 "nbformat_minor": 5
}
